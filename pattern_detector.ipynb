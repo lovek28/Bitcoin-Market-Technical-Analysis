{
 "cells": [
  {
   "cell_type": "code",
   "execution_count": 3,
   "metadata": {},
   "outputs": [
    {
     "name": "stdout",
     "output_type": "stream",
     "text": [
      "Data with patterns saved to BTC_BUY_SELL.csv\n"
     ]
    }
   ],
   "source": [
    "import pandas as pd\n",
    "import talib\n",
    "\n",
    "# Load the data from a CSV file\n",
    "input_file = 'Binance_BTCUSDT_minute.csv'\n",
    "output_file = 'BTC_BUY_SELL.csv'\n",
    "df = pd.read_csv(input_file)\n",
    "\n",
    "# Check if the necessary columns exist\n",
    "required_columns = ['open', 'high', 'low', 'close']\n",
    "for col in required_columns:\n",
    "    if col not in df.columns:\n",
    "        raise ValueError(f\"Column '{col}' is missing in the input data\")\n",
    "\n",
    "# Calculate the Bullish Engulfing pattern\n",
    "df['engulfing'] = talib.CDLENGULFING(df['open'], df['high'], df['low'], df['close'])\n",
    "df['hammer'] = talib.CDLHAMMER(df['open'], df['high'], df['low'], df['close'])\n",
    "df['doji'] = talib.CDLDOJI(df['open'], df['high'], df['low'], df['close'])\n",
    "df['shooting_star'] = talib.CDLSHOOTINGSTAR(df['open'], df['high'], df['low'], df['close'])\n",
    "# Create separate columns for bullish and bearish engulfing patterns\n",
    "df['bullish_engulfing'] = (df['engulfing'] == 100).astype(int)\n",
    "df['bearish_engulfing'] = (df['engulfing'] == -100).astype(int)\n",
    "df['hammer'] = (df['hammer'] == 100).astype(int)\n",
    "df['doji'] = (df['doji'] == 100).astype(int)\n",
    "df['shooting_star'] = (df['shooting_star'] == 100).astype(int)\n",
    "# Calculate Exponential Moving Averages (EMA)\n",
    "df['ema_5'] = talib.EMA(df['close'], timeperiod=5)\n",
    "df['ema_20'] = talib.EMA(df['close'], timeperiod=20)\n",
    "\n",
    "# Determine trend: 1 for uptrend, 0 for downtrend\n",
    "df['trend'] = (df['ema_5'] > df['ema_20']).astype(int)\n",
    "\n",
    "# Drop the ema_20 and ema_50 columns\n",
    "df.drop(columns=['ema_5', 'ema_20','engulfing'], inplace=True)\n",
    "\n",
    "# Save the result to a new CSV file\n",
    "df.to_csv(output_file, index=False)\n",
    "\n",
    "print(f\"Data with patterns saved to {output_file}\")\n"
   ]
  }
 ],
 "metadata": {
  "kernelspec": {
   "display_name": "Python 3",
   "language": "python",
   "name": "python3"
  },
  "language_info": {
   "codemirror_mode": {
    "name": "ipython",
    "version": 3
   },
   "file_extension": ".py",
   "mimetype": "text/x-python",
   "name": "python",
   "nbconvert_exporter": "python",
   "pygments_lexer": "ipython3",
   "version": "3.11.3"
  }
 },
 "nbformat": 4,
 "nbformat_minor": 2
}
